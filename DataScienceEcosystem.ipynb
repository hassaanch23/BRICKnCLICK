{
  "nbformat": 4,
  "nbformat_minor": 0,
  "metadata": {
    "colab": {
      "provenance": [],
      "authorship_tag": "ABX9TyPuPzthAWGkDPMCf5Wrjxsi",
      "include_colab_link": true
    },
    "kernelspec": {
      "name": "python3",
      "display_name": "Python 3"
    },
    "language_info": {
      "name": "python"
    }
  },
  "cells": [
    {
      "cell_type": "markdown",
      "metadata": {
        "id": "view-in-github",
        "colab_type": "text"
      },
      "source": [
        "<a href=\"https://colab.research.google.com/github/hassaanch23/BRICKnCLICK/blob/main/DataScienceEcosystem.ipynb\" target=\"_parent\"><img src=\"https://colab.research.google.com/assets/colab-badge.svg\" alt=\"Open In Colab\"/></a>"
      ]
    },
    {
      "cell_type": "markdown",
      "metadata": {
        "id": "9027fc3a"
      },
      "source": []
    },
    {
      "cell_type": "markdown",
      "metadata": {
        "id": "aff1ca09"
      },
      "source": [
        "# Data Science Tools and Ecosystem"
      ]
    },
    {
      "cell_type": "markdown",
      "metadata": {
        "id": "d14fe65d"
      },
      "source": [
        "In this notebook, Data Science Tools and Ecosystem are summarized."
      ]
    },
    {
      "cell_type": "markdown",
      "metadata": {
        "id": "5d803da7"
      },
      "source": [
        "Some of the popular languages that Data Scientists use are:\n",
        "1. Python\n",
        "2. R\n",
        "3. SQL\n",
        "4. Julia"
      ]
    },
    {
      "cell_type": "markdown",
      "metadata": {
        "id": "40ea4a79"
      },
      "source": [
        "Some of the commonly used libraries used by Data Scientists include:\n",
        "1. Pandas\n",
        "2. NumPy\n",
        "3. Scikit-learn\n",
        "4. TensorFlow\n",
        "5. PyTorch"
      ]
    },
    {
      "cell_type": "markdown",
      "metadata": {
        "id": "d4d94b85"
      },
      "source": [
        "| Data Science Tools |\n",
        "|--------------------|\n",
        "| Jupyter Notebooks  |\n",
        "| RStudio            |\n",
        "| VS Code            |"
      ]
    },
    {
      "cell_type": "markdown",
      "metadata": {
        "id": "8283199a"
      },
      "source": [
        "### Below are a few examples of evaluating arithmetic expressions in Python."
      ]
    },
    {
      "cell_type": "code",
      "metadata": {
        "colab": {
          "base_uri": "https://localhost:8080/"
        },
        "id": "4d8a0f3c",
        "outputId": "55dbbf11-7947-4dbd-f1b2-98cf82649898"
      },
      "source": [
        "# This a simple arithmetic expression to mutiply then add integers.\n",
        "(3 * 4) + 5"
      ],
      "execution_count": 3,
      "outputs": [
        {
          "output_type": "execute_result",
          "data": {
            "text/plain": [
              "17"
            ]
          },
          "metadata": {},
          "execution_count": 3
        }
      ]
    },
    {
      "cell_type": "code",
      "metadata": {
        "colab": {
          "base_uri": "https://localhost:8080/"
        },
        "id": "870baadb",
        "outputId": "28d408c9-c992-4476-d559-180190ef15c8"
      },
      "source": [
        "# This will convert 200 minutes to hours by diving by 60.\n",
        "200 / 60"
      ],
      "execution_count": 4,
      "outputs": [
        {
          "output_type": "execute_result",
          "data": {
            "text/plain": [
              "3.3333333333333335"
            ]
          },
          "metadata": {},
          "execution_count": 4
        }
      ]
    },
    {
      "cell_type": "markdown",
      "metadata": {
        "id": "53b9b2f9"
      },
      "source": [
        "**Objectives:**\n",
        "\n",
        "* List popular languages for Data Science.\n",
        "* List commonly used libraries in Data Science.\n",
        "* Create a table of Data Science tools.\n",
        "* Evaluate arithmetic expressions in Python.\n",
        "* Convert units using Python."
      ]
    },
    {
      "cell_type": "markdown",
      "metadata": {
        "id": "6c92c0b2"
      },
      "source": [
        "## Author\n",
        "Muhammad Hassaan"
      ]
    }
  ]
}